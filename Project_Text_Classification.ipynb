{
  "cells": [
    {
      "cell_type": "markdown",
      "metadata": {
        "id": "view-in-github",
        "colab_type": "text"
      },
      "source": [
        "<a href=\"https://colab.research.google.com/github/manasiwaghmare18/Project/blob/code/Project_Text_Classification.ipynb\" target=\"_parent\"><img src=\"https://colab.research.google.com/assets/colab-badge.svg\" alt=\"Open In Colab\"/></a>"
      ]
    },
    {
      "cell_type": "markdown",
      "metadata": {
        "id": "BO1BRA_UQsam"
      },
      "source": [
        "<h1>Project-Text Classification</h1>\n"
      ]
    },
    {
      "cell_type": "markdown",
      "source": [
        "\n",
        "**Objective:** To build a text classification model using the Naive Bayes algorithm to categorize documents from the 20 Newsgroups dataset into their respective newsgroups.\n",
        "\n",
        "**Process and Steps:**\n",
        "\n",
        "**Data Acquisition and Preprocessing:**\n",
        "\n",
        "*   Data Loading: Used fetch_20newsgroups from sklearn.datasets to load the 20 Newsgroups dataset, which contains around 11,314 newsgroup documents categorized into 20 different topics.\n",
        "*   Tokenization: Applied word_tokenize from nltk.tokenize to break down each document into individual words (tokens).\n",
        "\n",
        "*   Stop Word Removal: Created a set of stop words (common words like \"the,\" \"a,\" \"is,\" etc.) and punctuation marks to remove them from the tokenized documents using nltk.corpus.stopwords and string.punctuation. You also considered adding custom stop words from an external file.\n",
        "*   Cleaning Stop Words: Removed quotes and special characters from stop words using regular expression re.sub().\n",
        "\n",
        "*   Data Splitting: Split the data into training and testing sets using train_test_split from sklearn.model_selection to evaluate the model's performance on unseen data.\n",
        "\n",
        "\n",
        "**Feature Engineering:**\n",
        "\n",
        "\n",
        "*   Initial Feature Extraction: Initially, you created a vocabulary of features (words) based on their frequency in the training documents, selecting the most frequent words within a specific frequency range. You used a custom function (data_modifier) to represent documents as numerical vectors based on the presence and frequency of these features.\n",
        "*   TF-IDF Vectorization: To improve performance, you replaced the custom feature extraction with TF-IDF (Term Frequency-Inverse Document Frequency) vectorization using TfidfVectorizer from sklearn.feature_extraction.text. This technique assigns weights to words based on their importance within a document and across the entire corpus, leading to better feature representation.\n",
        "\n",
        "\n",
        "\n",
        "\n",
        "**Model Training and Prediction:**\n",
        "\n",
        "*   Naive Bayes Classifier: You used the MultinomialNB classifier from sklearn.naive_bayes to train the text classification model using the TF-IDF features extracted from the training data.\n",
        "*   Prediction: The trained model was then used to predict the categories of the documents in the test set .\n",
        "\n",
        "\n",
        "\n",
        "\n",
        "\n",
        " **Evaluation and Analysis:**\n",
        "\n",
        "*   Confusion Matrix: Generated a confusion matrix using confusion_matrix from sklearn.metrics to visualize the performance of the classifier by showing the counts of true positives, true negatives, false positives, and false negatives for each category.\n",
        "*  Classification Report: Generated a classification report using classification_report from sklearn.metrics to provide detailed metrics such as precision, recall, F1-score, and support for each category, along with overall accuracy.\n",
        "* Analysis: Based on the evaluation metrics, you analyzed the model's strengths and weaknesses, identified problematic classes with lower scores, and suggested potential improvements.\n",
        "\n",
        "\n",
        "\n",
        "\n",
        "\n",
        "**Iterative Refinement:**\n",
        "\n",
        "Throughout the project, I iteratively refined the model by:\n",
        "* Adjusting the feature set (e.g., changing frequency thresholds, using TF-IDF).\n",
        "* Cleaning the stopwords list.\n",
        "* Considering different smoothing parameters for the Naive Bayes classifier.\n",
        "* Exploring potential techniques like feature selection, hyperparameter tuning, and advanced feature engineering to further improve performance."
      ],
      "metadata": {
        "id": "vAbwNZLsbWxD"
      }
    },
    {
      "cell_type": "markdown",
      "metadata": {
        "id": "oLTs9cV5Qsaq"
      },
      "source": [
        "<h3>Importing Important Libraries</h3>\n",
        "<ul>\n",
        "    <li>I have imported the stopwords from nltk and copied more of them from internet</li>\n",
        "    <li>Instead of split() function, I am using the tokenizer which makes the job much easier.</li>\n",
        "    <li>Instead of manually downloading the data from the internet, I have downloaded it using sklearn.datasets.fetch_20newsgroups</li>\n",
        "</ul>"
      ]
    },
    {
      "cell_type": "code",
      "execution_count": null,
      "metadata": {
        "id": "EqqnwXMMQsar"
      },
      "outputs": [],
      "source": [
        "from sklearn.datasets import fetch_20newsgroups\n",
        "import string\n",
        "from nltk.corpus import stopwords\n",
        "from nltk.tokenize import word_tokenize\n",
        "from sklearn.model_selection import train_test_split\n",
        "import numpy as np\n",
        "from sklearn.naive_bayes import MultinomialNB"
      ]
    },
    {
      "cell_type": "code",
      "execution_count": null,
      "metadata": {
        "colab": {
          "base_uri": "https://localhost:8080/"
        },
        "id": "dq2jiLJdQsat",
        "outputId": "d7a43bb0-4e7b-45bc-f8de-a68fe8a42ae5"
      },
      "outputs": [
        {
          "output_type": "stream",
          "name": "stderr",
          "text": [
            "[nltk_data] Downloading package stopwords to /root/nltk_data...\n",
            "[nltk_data]   Unzipping corpora/stopwords.zip.\n"
          ]
        },
        {
          "output_type": "execute_result",
          "data": {
            "text/plain": [
              "dict_keys(['data', 'filenames', 'target_names', 'target', 'DESCR'])"
            ]
          },
          "metadata": {},
          "execution_count": 3
        }
      ],
      "source": [
        "newsgroups=fetch_20newsgroups()\n",
        "#instead of the link, I have fetched the data through sklearn itself just to reduce the amount of unnecessary work.\n",
        "import nltk\n",
        "nltk.download('stopwords')\n",
        "stops=set(stopwords.words('english'))\n",
        "#these are the stopwords which we don't want to include in out vocabulary.\n",
        "punctuations=list(string.punctuation)\n",
        "#punctuation marks also should be removed from our vocabulary.\n",
        "stops.update(punctuations)\n",
        "#i have created a set of stop words and updated it with all the punctuation marks\n",
        "newsgroups.keys()\n",
        "#now we have all the unnecessary words and punctuation marks in our set \"stops\"\n",
        "#lets check what keys do we have in our data."
      ]
    },
    {
      "cell_type": "code",
      "execution_count": null,
      "metadata": {
        "colab": {
          "base_uri": "https://localhost:8080/"
        },
        "id": "aIBdxpFLQsav",
        "outputId": "1808b538-b696-484a-aef5-25f2d676d89f"
      },
      "outputs": [
        {
          "output_type": "execute_result",
          "data": {
            "text/plain": [
              "211"
            ]
          },
          "metadata": {},
          "execution_count": 10
        }
      ],
      "source": [
        "#later on while debugging the code i realised that there are more stop words still residing there in these documents apart from\n",
        "#those i have already included.\n",
        "# so i copied more stop words from the internet and imported them using numpy.loadtxt() and updated my set of stop words.\n",
        "# Assuming stops.txt is in the same directory as the notebook\n",
        "more_stops = np.loadtxt(\"stops.txt\", dtype=str, delimiter=\",\")\n",
        "# If stops.txt is located elsewhere, replace \"stops.txt\" with the correct relative or absolute path\n",
        "stops.update(more_stops)\n",
        "len(stops)\n",
        "#now we have these many stop words..."
      ]
    },
    {
      "cell_type": "markdown",
      "source": [
        "# New Section"
      ],
      "metadata": {
        "id": "Q1YZj1MwRpDr"
      }
    },
    {
      "cell_type": "code",
      "execution_count": null,
      "metadata": {
        "colab": {
          "base_uri": "https://localhost:8080/"
        },
        "id": "gePFE8q5Qsav",
        "outputId": "146e9163-e9d1-44c6-f67e-6752087d2811"
      },
      "outputs": [
        {
          "output_type": "execute_result",
          "data": {
            "text/plain": [
              "11314"
            ]
          },
          "metadata": {},
          "execution_count": 11
        }
      ],
      "source": [
        "len(newsgroups.data)\n",
        "#We have these many documents.(this is one of the reasons our algorithm is taking so much of time.)"
      ]
    },
    {
      "cell_type": "code",
      "execution_count": null,
      "metadata": {
        "colab": {
          "base_uri": "https://localhost:8080/"
        },
        "id": "gbQ3FU_FQsaw",
        "outputId": "3d75440c-1a95-4a3a-b9bd-7c5e787cf945"
      },
      "outputs": [
        {
          "output_type": "stream",
          "name": "stderr",
          "text": [
            "[nltk_data] Downloading package punkt_tab to /root/nltk_data...\n",
            "[nltk_data]   Unzipping tokenizers/punkt_tab.zip.\n"
          ]
        }
      ],
      "source": [
        "all_documents=newsgroups.data\n",
        "#all_documents contains all the \"X\" data in un-tokenized form.\n",
        "all_categories=newsgroups.target\n",
        "#all_cateories contain all the \"Y\" data.\n",
        "import nltk\n",
        "nltk.download('punkt_tab')\n",
        "all_documents_modified=[word_tokenize(doc) for doc in all_documents]\n",
        "#i have modified the all_documents to a form in which we have list of list of words(tokenized data for each document)"
      ]
    },
    {
      "cell_type": "code",
      "execution_count": null,
      "metadata": {
        "id": "7_O5kpMoQsaw"
      },
      "outputs": [],
      "source": [
        "#splitting these documents in train and test data.\n",
        "x_train, x_test, y_train, y_test=train_test_split(all_documents_modified, all_categories, random_state=1)"
      ]
    },
    {
      "cell_type": "code",
      "execution_count": null,
      "metadata": {
        "id": "p_20dz5pQsaw"
      },
      "outputs": [],
      "source": [
        "all_words=[]\n",
        "#this variable is going to contain all the words from all our tokenized documents.\n",
        "for doc in x_train:\n",
        "    for word in doc:\n",
        "        if (word.lower() not in stops) and len(word)!=1 and len(word)!=2 and word[0]!=\"'\" and word!=\"n't\" and word[0]!=\".\":\n",
        "            #I dont't want to include words with length 1 and 2 in my vocabulary because these words are pretty much useless.\n",
        "            # and they might either be the stops which are not there in \"stops\" variable or some punctuation marks which are\n",
        "            # not there in \"punctuations\" variable. apart from the words of length 1 and 2 i have also removed some words\n",
        "            # separately because these words are most probably present in all the documents so they are not helping us much in\n",
        "            # classification.\n",
        "            all_words.append(word)"
      ]
    },
    {
      "cell_type": "code",
      "execution_count": null,
      "metadata": {
        "colab": {
          "base_uri": "https://localhost:8080/"
        },
        "id": "CfTmq5HXQsax",
        "outputId": "fa8ab12c-8001-4bbc-c7b9-4c05257fff10"
      },
      "outputs": [
        {
          "output_type": "execute_result",
          "data": {
            "text/plain": [
              "1385187"
            ]
          },
          "metadata": {},
          "execution_count": 16
        }
      ],
      "source": [
        "len(all_words)\n",
        "#lets check out the length of our vocabulary"
      ]
    },
    {
      "cell_type": "code",
      "execution_count": null,
      "metadata": {
        "id": "atK94P8BQsax"
      },
      "outputs": [],
      "source": [
        "#This function accepts a list and returns a dictionary in which keys are the perticular words in the list and values are\n",
        "# the frequency of that element in that list.\n",
        "def freq_dict(all_words):\n",
        "    dic=dict()\n",
        "    #it iterates through all the elements in the list and increases the frequency by one if it encounters the same element again.\n",
        "    for word in all_words:\n",
        "        if word in dic.keys():\n",
        "            dic[word]+=1\n",
        "        else:\n",
        "            dic[word]=1\n",
        "    return dic\n",
        "\n",
        "dic=freq_dict(all_words)\n",
        "#Now in the \"dic\" variable we have the frequencies of all the elements of the list \"all words\"."
      ]
    },
    {
      "cell_type": "code",
      "execution_count": null,
      "metadata": {
        "id": "Bo0Bj9F6Qsay"
      },
      "outputs": [],
      "source": [
        "import numpy as np\n",
        "#I have imported numpy because my plan is to get the elements in dic.keys() and dic.values() to two separate variables\n",
        "# namely \"freq\" and \"words\". and then i will arrange them in a decreasing fashion of frequency.\n",
        "freq=np.array([i for i in dic.values()])\n",
        "words=np.array([i for i in dic.keys()])"
      ]
    },
    {
      "cell_type": "code",
      "execution_count": null,
      "metadata": {
        "id": "V6hYBpolQsay"
      },
      "outputs": [],
      "source": [
        "words=words[np.argsort(freq)][::-1]\n",
        "freq=np.sort(freq)[::-1]\n",
        "#now i have sorted both the arrays and first arranged them in ascending order using np.sort() and np.argsort() and then i have\n",
        "# reversed the so obtained array to get a descending ordered array."
      ]
    },
    {
      "cell_type": "markdown",
      "metadata": {
        "id": "PEcCS0yuQsay"
      },
      "source": [
        "<h1>Frequency Distribution of words</h1>"
      ]
    },
    {
      "cell_type": "code",
      "execution_count": null,
      "metadata": {
        "colab": {
          "base_uri": "https://localhost:8080/",
          "height": 272
        },
        "id": "ypcp3ReJQsay",
        "outputId": "ca086c5e-e135-43c3-c842-3d870782942e"
      },
      "outputs": [
        {
          "output_type": "display_data",
          "data": {
            "text/plain": [
              "<Figure size 2000x700 with 1 Axes>"
            ],
            "image/png": "[encoded data removed]"
          },
          "metadata": {}
        }
      ],
      "source": [
        "#This cell draws a frequency distribution graph for us to from where we can carefully observe the frequency trend of out list.\n",
        "import matplotlib.pyplot as plt\n",
        "#following are the limits for our graph.\n",
        "lower_limit=0    #default\n",
        "upper_limit=3000    #default\n",
        "difference_between_each_xtick=50  #default value. change these values to observe the graph in more depth\n",
        "#adjusting size of the graph for more clearity.\n",
        "plt.figure(figsize=(20, 7))\n",
        "#plotting\n",
        "plt.plot(np.arange(len(freq))[lower_limit:upper_limit], freq[lower_limit:upper_limit])\n",
        "#labelling\n",
        "plt.xlabel('Words(\"nth word\")--->')\n",
        "plt.ylabel(\"Frequency--->\")\n",
        "#adjusting the xticks\n",
        "plt.xticks(np.arange(lower_limit, upper_limit, 50), rotation=45)\n",
        "plt.grid()\n",
        "plt.show()\n",
        "#observe the following graph by changing the values of lower_limit, upper_limit and difference_between_each_xtick."
      ]
    },
    {
      "cell_type": "code",
      "execution_count": null,
      "metadata": {
        "colab": {
          "base_uri": "https://localhost:8080/"
        },
        "id": "tmL4KqNNQsaz",
        "outputId": "5c9bd8fe-b523-43a4-82a5-1db9ee257fe5"
      },
      "outputs": [
        {
          "output_type": "execute_result",
          "data": {
            "text/plain": [
              "(2150, 52)"
            ]
          },
          "metadata": {},
          "execution_count": 21
        }
      ],
      "source": [
        "features=words[20:4000]\n",
        "#features variable contains all the top words which are most frequently used in all our documents.\n",
        "freq[20], freq[3999]\n",
        "# since there are 11314 documents I don't want the very high frequency words to get into my final features list as\n",
        "# they may be present in all the documents which will not help me much for classiication.\n",
        "# so i have choosen the words having frequency freq[20] to freq[2999]"
      ]
    },
    {
      "cell_type": "code",
      "execution_count": null,
      "metadata": {
        "id": "twfd2kHkQsaz"
      },
      "outputs": [],
      "source": [
        "# This function is the backbone of our Text Classification.\n",
        "# It takes the patameters x_train or x_test and the list of all features and converts it into a TEXT-CLASSIFICATION-FRIENDLY structure.\n",
        "# By text-classification-friendly, I mean it converts the data into a 2-D array which contains the frequency of that feature\n",
        "# in that perticular document. where rows are the documents and columns are the features.\n",
        "def data_modifier(x_data, features):\n",
        "    features_dict = {feature: i for i, feature in enumerate(features)}  # Create a dictionary for fast lookup\n",
        "    modified_data = np.zeros((len(x_data), len(features)))\n",
        "\n",
        "    for i, doc in enumerate(x_data):  # Use enumerate for more efficient indexing\n",
        "        for word in doc:\n",
        "            if word in features_dict:  # Efficient lookup using the dictionary\n",
        "                modified_data[i][features_dict[word]] += 1\n",
        "\n",
        "    return modified_data\n",
        "\n",
        "#this function takes some time to process because i have considered nearly 3000 features and apart from that we have so many\n",
        "#documents which contains so many words. so the algorithm has to go through each word in features list for each word in a perticular\n",
        "#document. and this needs to be done because I think there is probably no other way to create such a modified array from x_data.\n",
        "\n",
        "x_train_modified = data_modifier(x_train, features)\n",
        "#training and testing data has to be modified saparately because we cant use the testing data for training purpose\n",
        "#as both the Training and testing data must be having their own separate vocabularies.\n",
        "x_test_modified= data_modifier(x_test, features)\n",
        "#modified testing data"
      ]
    },
    {
      "cell_type": "code",
      "execution_count": null,
      "metadata": {
        "id": "U8IyMTR2Qsaz"
      },
      "outputs": [],
      "source": []
    },
    {
      "cell_type": "code",
      "execution_count": null,
      "metadata": {
        "id": "aKFxhYA7Qsaz"
      },
      "outputs": [],
      "source": []
    },
    {
      "cell_type": "markdown",
      "metadata": {
        "id": "wOB6-ahfQsa0"
      },
      "source": [
        "<h1>Trying out the inbuilt Multinomial Naive Bayes classifier</h1>"
      ]
    },
    {
      "cell_type": "code",
      "execution_count": null,
      "metadata": {
        "colab": {
          "base_uri": "https://localhost:8080/"
        },
        "id": "yw3Nk2KRQsa0",
        "outputId": "ed692109-cfea-4b23-e5db-5b68dcbc1544"
      },
      "outputs": [
        {
          "output_type": "execute_result",
          "data": {
            "text/plain": [
              "0.8204312477907387"
            ]
          },
          "metadata": {},
          "execution_count": 24
        }
      ],
      "source": [
        "#first trying out the inbuilt Multinomial naive bayes classifier.\n",
        "clf=MultinomialNB()\n",
        "clf.fit(x_train_modified, y_train)\n",
        "clf.score(x_test_modified, y_test)\n",
        "#it seems like a descent score to me beacause we haven't used real text classification algorithms like NLP and all."
      ]
    },
    {
      "cell_type": "markdown",
      "metadata": {
        "id": "NxMcROcBQsa0"
      },
      "source": [
        "<h1>Writing our own Naive Bayes Classifier</h1>"
      ]
    },
    {
      "cell_type": "code",
      "execution_count": null,
      "metadata": {
        "id": "0ErQ-3WGQsa0"
      },
      "outputs": [],
      "source": [
        "#fit function takes the training data and gives you a dictionary whose keys are the different classes available to classify.\n",
        "# and for each key, value is another dictionary, whose keys are all the features available to us and value corresponding\n",
        "# to each key is sum of all the row of training data corresponding to the current class.(the original key or (say) primary key)\n",
        "def fit(x_train, y_train):\n",
        "    count=dict()\n",
        "    for i in range(20):\n",
        "        needed_docs=x_train[y_train==i]\n",
        "        #these are all the documents we need to work upon corresponding to the class i.\n",
        "        count[i]=dict()\n",
        "        #count is a dictionary whose each key is yet another dictionary.\n",
        "        count[i]['total']=0\n",
        "        #it will maintain the total number of words in class i.\n",
        "        for j in range(len(features)):\n",
        "            count[i][features[j]]=needed_docs[:, j].sum()\n",
        "            #it gives me-\"how many times jth feature is coming corresponding to class i\"\n",
        "            count[i]['total']+=count[i][features[j]]\n",
        "            #this additional key named \"total\" stores the sum of all the values of ith key which signifies the total number of\n",
        "            # words in class i.\n",
        "    #returning the dictionary at last.\n",
        "    return count\n",
        "\n",
        "#this \"probability\" function is another backbone of our naive bayes classifier.But before this function please ckeck out\n",
        "#predict function given below.\n",
        "#This \"Predict\" function takes takes the dictionary, which was originally returned by fit function, the current data point and the current class as its params.\n",
        "def probability(dictionary, x, current_class):\n",
        "    probas_for_each_word=[]\n",
        "    #my plan, here, is to store all the probabilities for each word in features which is available in the current document\n",
        "    # and then return the logarithmic sum of all these probabilities for that perticular document.\n",
        "    for i in range(len(x)):\n",
        "        #iterating through each feature.\n",
        "        if x[i]!=0:\n",
        "            #I am skipping those features whose value corresponding to the current document is 0, that is, they are not present\n",
        "            # in the that document.\n",
        "            numerator=dictionary[current_class][features[i]]\n",
        "            #it denotes that how many times that ith feature is occuring in \"current_class\"\n",
        "            #this is the numerator of our NON LOGARITHMIC PROBABILITY\n",
        "            denominator=dictionary[current_class]['total']\n",
        "            #it denotes that what is the total number of words in the current class.\n",
        "            #this is the denominator of our NON LOGARITHMIC PROBABILITY\n",
        "            proba=np.log((numerator+1)/(denominator+len(x)))\n",
        "            #i have created a variable \"proba\" which stores the logarithmic probability which also includes the laplace crrection.\n",
        "            #here \"1\" with the numerator and len(x) with denominator denotes the laplace correction.\n",
        "            probas_for_each_word.append(proba)\n",
        "            #finally i appended \"proba\" to the probas_for_each_word array.\n",
        "    #returning the logarithmic sum of all the probabilities. (which can be treated as multiplication of all the probabilities,\n",
        "    #but multiplying the probabilities simply won't be a good practice as it may nullify the extreamily small probabilities)\n",
        "    return sum(probas_for_each_word)\n",
        "\n",
        "#The predict_single function takes a perticular data point \"x\" from \"predict\" function and a dictionary which was obtained\n",
        "#originally from fit function. Before going through this function, you may like to check out the \"predict\" function.\n",
        "def predict_single(dic, x):\n",
        "    classes = dictionary.keys()\n",
        "    #this variable \"classes\" maintains all the possible different classes available to us.\n",
        "    best_p = -1000\n",
        "    best_class = -1\n",
        "    #initiated best_p and best_class variables with negative values because we want to consider maximum valued probabilities at\n",
        "    #the end. In the first run itself they will be replaced by positive values. \"best_p\" variable denotes the best probability\n",
        "    #uptill now. and as the name suggests, best_class denotes the best possible class uptill now.\n",
        "    first_run = True\n",
        "    #this boolean variable is taken keeping initial negative values in mind\n",
        "    for current_class in classes:\n",
        "        #iterating through each and every class in all possible classes.\n",
        "        p_current_class = probability(dic, x, current_class)\n",
        "        #p_current_class denotes the probability of current class.\n",
        "        if (first_run or p_current_class > best_p):\n",
        "            #if the probability of current class is better than the best probability then i will update the best probability and\n",
        "            # best_class to probability of current class and the current class respectively.\n",
        "            best_p = p_current_class\n",
        "            best_class = current_class\n",
        "            #updated\n",
        "        first_run = False\n",
        "    #returning the best predicted class for the current data point\n",
        "    return best_class\n",
        "\n",
        "#The predict function takes testing data and a dictionary as its input, where the dictionary is the one returned from fit function.\n",
        "def predict(x_test, dic):\n",
        "    y_pred=[]\n",
        "    #y_pred maintains all the predicted classes for provided testing data(In modified format---> see the \"data_modifier\" function).\n",
        "    for doc in x_test:\n",
        "        #iterating each document in testing data.\n",
        "        y_pred.append(predict_single(dic, doc))\n",
        "        #for each testing data point, we will append the value of predicted class to y_pred. and we will get that value from\n",
        "        #predict_single function\n",
        "    #returning the predicted data finally\n",
        "    return y_pred"
      ]
    },
    {
      "cell_type": "code",
      "execution_count": null,
      "metadata": {
        "id": "KPJyTC-YQsa0"
      },
      "outputs": [],
      "source": [
        "dictionary=fit(x_train_modified, y_train)\n",
        "#calling the fit function for the modified data."
      ]
    },
    {
      "cell_type": "code",
      "execution_count": null,
      "metadata": {
        "id": "23fTg7iwQsa1"
      },
      "outputs": [],
      "source": [
        "y_predicted=predict(x_test_modified, dictionary)\n",
        "#storing the predicted values."
      ]
    },
    {
      "cell_type": "code",
      "execution_count": null,
      "metadata": {
        "colab": {
          "base_uri": "https://localhost:8080/"
        },
        "id": "_NF7R00RQsa1",
        "outputId": "bc96b19c-cd17-4e5d-9747-8bfbd2ebbffe"
      },
      "outputs": [
        {
          "output_type": "stream",
          "name": "stdout",
          "text": [
            "90    0    0    0    0    0    0    0    1    0    0    0    0    1    0    10    1    0    0    11    \n",
            "0    120    5    13    3    5    1    1    1    0    0    1    1    0    0    0    0    0    0    1    \n",
            "0    12    96    18    3    7    0    2    1    0    0    0    0    0    0    0    0    0    0    0    \n",
            "0    10    2    123    7    1    4    4    0    0    0    1    0    0    0    0    0    0    0    0    \n",
            "1    6    0    15    108    0    5    2    0    0    0    0    0    1    0    0    0    0    0    0    \n",
            "0    22    3    8    2    113    0    2    2    0    0    0    1    0    0    0    0    0    0    0    \n",
            "1    5    0    11    2    0    108    7    2    3    0    1    2    2    0    0    0    1    2    0    \n",
            "0    2    0    2    0    0    5    117    6    1    0    0    3    1    0    0    0    0    0    0    \n",
            "1    0    1    0    0    0    2    11    112    0    0    0    1    0    0    0    3    0    0    0    \n",
            "0    1    0    3    0    0    0    2    0    127    0    0    0    0    0    0    0    0    0    2    \n",
            "0    0    0    0    2    0    1    3    1    17    111    0    0    0    0    0    0    0    0    1    \n",
            "0    1    0    0    0    0    0    0    1    0    0    138    0    0    1    1    2    0    0    1    \n",
            "0    11    0    25    9    1    2    7    1    1    0    1    96    1    0    0    0    0    1    1    \n",
            "2    5    0    1    1    1    0    3    2    0    0    0    1    130    1    3    1    0    0    0    \n",
            "1    11    0    1    1    0    1    2    1    2    0    0    0    4    121    1    2    0    5    2    \n",
            "0    2    0    0    1    0    1    0    1    0    0    0    0    0    0    147    2    0    0    5    \n",
            "1    1    0    0    0    0    0    3    1    2    0    2    0    1    0    0    125    0    2    2    \n",
            "5    4    0    4    0    0    1    0    2    0    0    0    0    0    0    2    0    121    9    1    \n",
            "2    0    0    0    1    0    1    1    1    4    0    3    0    0    0    1    10    3    108    3    \n",
            "7    1    0    0    0    0    0    0    0    0    0    0    0    0    2    16    4    1    3    67    \n"
          ]
        }
      ],
      "source": [
        "from sklearn.metrics import confusion_matrix\n",
        "#printing the confusion matrix for our own naive bayes classifier.\n",
        "#here i am manually printing the confusion matrix for a more clear view.\n",
        "for i in confusion_matrix(y_true=y_test, y_pred=y_predicted):\n",
        "    for j in i:\n",
        "        print(j, end=\"    \")\n",
        "    print()"
      ]
    },
    {
      "cell_type": "code",
      "execution_count": null,
      "metadata": {
        "colab": {
          "base_uri": "https://localhost:8080/"
        },
        "id": "55MBlOm6Qsa1",
        "outputId": "ab6f8007-52dc-4041-ee11-116d72ebfb30"
      },
      "outputs": [
        {
          "output_type": "stream",
          "name": "stdout",
          "text": [
            "              precision    recall  f1-score   support\n",
            "\n",
            "           0       0.81      0.79      0.80       114\n",
            "           1       0.56      0.79      0.66       152\n",
            "           2       0.90      0.69      0.78       139\n",
            "           3       0.55      0.81      0.65       152\n",
            "           4       0.77      0.78      0.78       138\n",
            "           5       0.88      0.74      0.80       153\n",
            "           6       0.82      0.73      0.77       147\n",
            "           7       0.70      0.85      0.77       137\n",
            "           8       0.82      0.85      0.84       131\n",
            "           9       0.81      0.94      0.87       135\n",
            "          10       1.00      0.82      0.90       136\n",
            "          11       0.94      0.95      0.95       145\n",
            "          12       0.91      0.61      0.73       157\n",
            "          13       0.92      0.86      0.89       151\n",
            "          14       0.97      0.78      0.86       155\n",
            "          15       0.81      0.92      0.86       159\n",
            "          16       0.83      0.89      0.86       140\n",
            "          17       0.96      0.81      0.88       149\n",
            "          18       0.83      0.78      0.81       138\n",
            "          19       0.69      0.66      0.68       101\n",
            "\n",
            "    accuracy                           0.81      2829\n",
            "   macro avg       0.82      0.80      0.81      2829\n",
            "weighted avg       0.83      0.81      0.81      2829\n",
            "\n"
          ]
        }
      ],
      "source": [
        "from sklearn.metrics import classification_report\n",
        "#printing the classification report for our own naive bayes classifier.\n",
        "print(classification_report(y_true=y_test, y_pred=y_predicted))"
      ]
    },
    {
      "cell_type": "markdown",
      "metadata": {
        "id": "mHPdkuLHQsa2"
      },
      "source": [
        "<h1>Observations</h1>\n",
        "<p><b>\n",
        "It seems like recall of some of the classes is excellent while for some other is moderate this is most probably because of selection of features. More accurately we select features, more will be the f1-score, precision and recall values. although from the confusion matrix we can determine that our algorithm is not that bad. Infact it seems to be working very precisely for some classes. And an accuracy of nearly 81% is not that bad. The accuracy is coming out to be equal to the one we got from the inbuilt multinomial naive bayes algorithm. And a better accuracy could be obtained by working on the selection of features.😁\n",
        "</b></p>"
      ]
    },
    {
      "cell_type": "code",
      "source": [
        "!pip install nltk scikit-learn\n",
        "import nltk\n",
        "nltk.download('stopwords')\n",
        "from sklearn.datasets import fetch_20newsgroups\n",
        "import string\n",
        "from nltk.corpus import stopwords\n",
        "from nltk.tokenize import word_tokenize\n",
        "from sklearn.model_selection import train_test_split\n",
        "import numpy as np\n",
        "from sklearn.naive_bayes import MultinomialNB\n",
        "from sklearn.metrics import confusion_matrix, classification_report\n",
        "from sklearn.feature_extraction.text import TfidfVectorizer\n",
        "import re\n",
        "\n",
        "# 1. Data Loading and Preprocessing\n",
        "newsgroups = fetch_20newsgroups()\n",
        "stops = set(stopwords.words('english'))\n",
        "punctuations = list(string.punctuation)\n",
        "stops.update(punctuations)\n",
        "# Load additional stop words if needed (ensure stops.txt is uploaded)\n",
        "# more_stops = np.loadtxt(\"stops.txt\", dtype=str, delimiter=\",\")\n",
        "# stops.update(more_stops)\n",
        "\n",
        "# Clean the stop words\n",
        "cleaned_stops = set()\n",
        "for word in stops:\n",
        "    cleaned_word = re.sub(r\"[^\\w\\s]\", \"\", word)  # Remove non-alphanumeric characters\n",
        "    if cleaned_word:  # Add only if the cleaned word is not empty\n",
        "        cleaned_stops.add(cleaned_word)\n",
        "\n",
        "# Convert cleaned stops set to a list\n",
        "stop_words_list = list(cleaned_stops)\n",
        "\n",
        "all_documents = newsgroups.data\n",
        "all_categories = newsgroups.target\n",
        "all_documents_modified = [word_tokenize(doc) for doc in all_documents]\n",
        "\n",
        "x_train, x_test, y_train, y_test = train_test_split(all_documents_modified, all_categories, random_state=1)\n",
        "\n",
        "# 2. Feature Engineering with TF-IDF\n",
        "\n",
        "# Create a TF-IDF vectorizer using the cleaned stop words list\n",
        "vectorizer = TfidfVectorizer(max_features=3000, stop_words=stop_words_list)  # Adjust max_features as needed\n",
        "# Fit and transform the training data\n",
        "x_train_modified = vectorizer.fit_transform([\" \".join(doc) for doc in x_train])\n",
        "# Transform the test data\n",
        "x_test_modified = vectorizer.transform([\" \".join(doc) for doc in x_test])\n",
        "\n",
        "# 3. Model Training and Prediction\n",
        "clf = MultinomialNB()  # You can experiment with different smoothing parameters (alpha)\n",
        "clf.fit(x_train_modified, y_train)\n",
        "y_predicted = clf.predict(x_test_modified)\n",
        "\n",
        "# 4. Evaluation\n",
        "print(\"Confusion Matrix:\")\n",
        "print(confusion_matrix(y_true=y_test, y_pred=y_predicted))\n",
        "print(\"\\nClassification Report:\")\n",
        "print(classification_report(y_true=y_test, y_pred=y_predicted))"
      ],
      "metadata": {
        "colab": {
          "base_uri": "https://localhost:8080/"
        },
        "id": "1ohOL8ObWH_-",
        "outputId": "bc6e0c33-49c9-4729-dd4e-1e14aad338fa"
      },
      "execution_count": null,
      "outputs": [
        {
          "output_type": "stream",
          "name": "stdout",
          "text": [
            "Requirement already satisfied: nltk in /usr/local/lib/python3.10/dist-packages (3.9.1)\n",
            "Requirement already satisfied: scikit-learn in /usr/local/lib/python3.10/dist-packages (1.5.2)\n",
            "Requirement already satisfied: click in /usr/local/lib/python3.10/dist-packages (from nltk) (8.1.7)\n",
            "Requirement already satisfied: joblib in /usr/local/lib/python3.10/dist-packages (from nltk) (1.4.2)\n",
            "Requirement already satisfied: regex>=2021.8.3 in /usr/local/lib/python3.10/dist-packages (from nltk) (2024.9.11)\n",
            "Requirement already satisfied: tqdm in /usr/local/lib/python3.10/dist-packages (from nltk) (4.66.6)\n",
            "Requirement already satisfied: numpy>=1.19.5 in /usr/local/lib/python3.10/dist-packages (from scikit-learn) (1.26.4)\n",
            "Requirement already satisfied: scipy>=1.6.0 in /usr/local/lib/python3.10/dist-packages (from scikit-learn) (1.13.1)\n",
            "Requirement already satisfied: threadpoolctl>=3.1.0 in /usr/local/lib/python3.10/dist-packages (from scikit-learn) (3.5.0)\n"
          ]
        },
        {
          "output_type": "stream",
          "name": "stderr",
          "text": [
            "[nltk_data] Downloading package stopwords to /root/nltk_data...\n",
            "[nltk_data]   Package stopwords is already up-to-date!\n"
          ]
        },
        {
          "output_type": "stream",
          "name": "stdout",
          "text": [
            "Confusion Matrix:\n",
            "[[ 90   0   0   0   0   0   0   0   1   2   0   0   0   1   1  15   0   2\n",
            "    0   2]\n",
            " [  1 111  13   8   2   8   1   3   0   1   0   0   2   0   2   0   0   0\n",
            "    0   0]\n",
            " [  0   5 118   3   0  10   1   1   0   1   0   0   0   0   0   0   0   0\n",
            "    0   0]\n",
            " [  0   5   6 111  10   4   4   3   2   0   0   0   5   1   1   0   0   0\n",
            "    0   0]\n",
            " [  0   4   3   6 112   0   4   0   1   1   1   0   4   1   1   0   0   0\n",
            "    0   0]\n",
            " [  0   7   8   2   0 130   1   1   2   0   0   0   2   0   0   0   0   0\n",
            "    0   0]\n",
            " [  0   3   3   5   1   1 114   5   3   2   2   0   6   2   0   0   0   0\n",
            "    0   0]\n",
            " [  1   1   2   0   0   1   5 113   4   3   0   0   2   2   2   0   1   0\n",
            "    0   0]\n",
            " [  0   2   0   0   0   0   3  11 115   0   0   0   0   0   0   0   0   0\n",
            "    0   0]\n",
            " [  0   2   0   1   0   0   1   1   1 124   3   0   1   0   1   0   0   0\n",
            "    0   0]\n",
            " [  0   0   0   0   0   0   1   1   2   3 128   0   0   0   0   0   1   0\n",
            "    0   0]\n",
            " [  0   2   1   0   0   0   0   0   0   0   0 136   1   0   1   0   3   0\n",
            "    1   0]\n",
            " [  0   3   1   8   6   2   4   9   2   2   3   2 110   0   4   0   1   0\n",
            "    0   0]\n",
            " [  0   3   0   0   1   0   0   2   3   1   0   0   3 135   3   0   0   0\n",
            "    0   0]\n",
            " [  0   3   2   0   1   0   0   0   1   2   0   0   0   1 143   1   1   0\n",
            "    0   0]\n",
            " [  2   2   0   0   0   1   1   0   1   4   0   0   0   0   0 146   1   1\n",
            "    0   0]\n",
            " [  0   0   0   0   0   0   0   2   1   4   0   2   0   0   0   0 129   2\n",
            "    0   0]\n",
            " [  0   0   0   0   0   0   1   1   0   1   0   1   0   1   2   1   1 140\n",
            "    0   0]\n",
            " [  1   1   1   0   0   0   0   1   2   7   0   2   1   1   1   8   9   4\n",
            "   99   0]\n",
            " [ 14   0   0   0   2   0   0   2   0   1   0   0   0   2   2  42   7   2\n",
            "    2  25]]\n",
            "\n",
            "Classification Report:\n",
            "              precision    recall  f1-score   support\n",
            "\n",
            "           0       0.83      0.79      0.81       114\n",
            "           1       0.72      0.73      0.73       152\n",
            "           2       0.75      0.85      0.79       139\n",
            "           3       0.77      0.73      0.75       152\n",
            "           4       0.83      0.81      0.82       138\n",
            "           5       0.83      0.85      0.84       153\n",
            "           6       0.81      0.78      0.79       147\n",
            "           7       0.72      0.82      0.77       137\n",
            "           8       0.82      0.88      0.85       131\n",
            "           9       0.78      0.92      0.84       135\n",
            "          10       0.93      0.94      0.94       136\n",
            "          11       0.95      0.94      0.94       145\n",
            "          12       0.80      0.70      0.75       157\n",
            "          13       0.92      0.89      0.91       151\n",
            "          14       0.87      0.92      0.90       155\n",
            "          15       0.69      0.92      0.78       159\n",
            "          16       0.84      0.92      0.88       140\n",
            "          17       0.93      0.94      0.93       149\n",
            "          18       0.97      0.72      0.82       138\n",
            "          19       0.93      0.25      0.39       101\n",
            "\n",
            "    accuracy                           0.82      2829\n",
            "   macro avg       0.83      0.81      0.81      2829\n",
            "weighted avg       0.83      0.82      0.82      2829\n",
            "\n"
          ]
        }
      ]
    },
    {
      "cell_type": "markdown",
      "source": [
        "**Analysis of the Improved Classification Report**\n",
        "\n",
        "\n",
        "\n",
        "*   **Overall Accuracy:** The overall accuracy has slightly improved from 81% to 82%, which is a positive sign. This indicates that the changes made (TF-IDF and cleaning stop words) have had a positive impact on the model's performance.\n",
        "* **Precision, Recall, and F1-score:**\n",
        "Examining the individual class metrics, we can see that:\n",
        "**Improvements:** Many classes show improvements in precision, recall, and F1-score, particularly classes 1, 2, 3, 5, 8, 9, 10, 11, 13, 14, 16, and 17. These classes are now being classified more accurately.\n",
        "\n",
        "\n",
        "  \n",
        "\n",
        "\n",
        "***Areas for further improvement:*** Some classes still have relatively lower scores, especially class 19 (precision: 0.93, recall: 0.25, f1-score: 0.39). This indicates that the model is still struggling to correctly identify documents from this class. Class 18 also shows lower recall (0.72) but good precision (0.97).\n"
      ],
      "metadata": {
        "id": "3Z5UwMQ8Zih-"
      }
    }
  ],
  "metadata": {
    "kernelspec": {
      "display_name": "Python 3",
      "language": "python",
      "name": "python3"
    },
    "language_info": {
      "codemirror_mode": {
        "name": "ipython",
        "version": 3
      },
      "file_extension": ".py",
      "mimetype": "text/x-python",
      "name": "python",
      "nbconvert_exporter": "python",
      "pygments_lexer": "ipython3",
      "version": "3.9.7"
    },
    "colab": {
      "provenance": [],
      "include_colab_link": true
    }
  },
  "nbformat": 4,
  "nbformat_minor": 0
}